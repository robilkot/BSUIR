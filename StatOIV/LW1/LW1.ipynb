{
 "cells": [
  {
   "cell_type": "code",
   "execution_count": 51,
   "id": "7e7c291b-fa23-4be2-8517-11a9fbe9bda6",
   "metadata": {},
   "outputs": [
    {
     "name": "stdout",
     "output_type": "stream",
     "text": [
      "    YearsExperience    Salary\n",
      "0          0.000000  0.000000\n",
      "1          0.117021  0.006599\n",
      "2          0.191489  0.208301\n",
      "3          0.202128  0.250542\n",
      "4          0.223404  0.181847\n",
      "5          0.223404  0.302259\n",
      "6          0.276596  0.214888\n",
      "7          0.297872  0.287484\n",
      "8          0.308511  0.198090\n",
      "9          0.308511  0.212094\n",
      "10         0.319149  0.213587\n",
      "11         0.361702  0.262113\n",
      "12         0.404255  0.344319\n",
      "13         0.425532  0.321332\n",
      "14         0.446809  0.526744\n",
      "15         0.510638  0.505972\n",
      "16         0.521277  0.657415\n",
      "17         0.606383  0.630900\n",
      "18         0.638298  0.709590\n",
      "19         0.723404  0.746063\n",
      "20         0.755319  0.896698\n",
      "21         0.808511  0.843946\n",
      "22         0.840426  0.797599\n",
      "23         0.893617  0.934712\n",
      "24         0.904255  0.882526\n",
      "25         0.978723  1.000000\n",
      "26         1.000000  0.993751\n"
     ]
    }
   ],
   "source": [
    "import pandas as pd\n",
    "dataset = pd.read_csv(\"Salary_dataset.csv\");\n",
    "\n",
    "# Iterate through entries\n",
    "# for index, row in dataset.iterrows():\n",
    "    # pass\n",
    "\n",
    "# Remove entries\n",
    "# dataset = dataset.drop([1,2,3]);\n",
    "\n",
    "# Delete column\n",
    "dataset = dataset.drop([\"Unnamed: 0\"], axis=1)\n",
    "\n",
    "# Reindex\n",
    "dataset.index = [index for index in range(len(dataset))]\n",
    "\n",
    "# Factorize\n",
    "# dataset[\"YearsExperience\"] = pd.factorize(dataset[\"YearsExperience\"])[0]\n",
    "\n",
    "# Normalize\n",
    "def normalize(column: pd.DataFrame):\n",
    "    return (column - column.min()) / (column.max() - column.min())\n",
    "\n",
    "dataset[\"Salary\"] = normalize(dataset[\"Salary\"])\n",
    "dataset[\"YearsExperience\"] = normalize(dataset[\"YearsExperience\"])\n",
    "\n",
    "print(dataset);\n",
    "\n",
    "dataset.to_excel('test_dataset.xlsx', sheet_name='data', index=False)\n"
   ]
  }
 ],
 "metadata": {
  "kernelspec": {
   "display_name": "Python 3 (ipykernel)",
   "language": "python",
   "name": "python3"
  },
  "language_info": {
   "codemirror_mode": {
    "name": "ipython",
    "version": 3
   },
   "file_extension": ".py",
   "mimetype": "text/x-python",
   "name": "python",
   "nbconvert_exporter": "python",
   "pygments_lexer": "ipython3",
   "version": "3.12.4"
  }
 },
 "nbformat": 4,
 "nbformat_minor": 5
}
