{
 "cells": [
  {
   "cell_type": "markdown",
   "source": [
    "# Задача 3. Применение рекуррентной нейронной сети для аннотации текста\n",
    "1. Загрузить текстовый корпус, например, набор предложений с метками части речи (POS-tagging).\n",
    "2. Построить и обучить рекуррентную нейронную сеть (RNN или LSTM) для предсказания аннотаций текста.\n",
    "3. Оценить модель на тестовом наборе и сравнить предсказанные метки с реальными.\n",
    "4. Вывести 5 примеров предложений с предсказанными и реальными аннотациями.\n"
   ],
   "metadata": {
    "collapsed": false
   },
   "id": "e319b9e0c014e25b"
  },
  {
   "cell_type": "markdown",
   "source": [
    "## Загрузка корпуса с метками части речи\n",
    "\n",
    "Загрузим корпус в виде итератора пар (слово - часть речи). Игнорируем морфологические признаки из датасета.\n",
    "Каждое предложение завершаем точкой, если нету никакого знака препинания. Это пригодится для моделей, использующих контекст токенов."
   ],
   "metadata": {
    "collapsed": false
   },
   "id": "ce34b92931678904"
  },
  {
   "cell_type": "code",
   "outputs": [],
   "source": [
    "f = open(\"samples3\", mode=\"r\", encoding=\"utf-8\")\n",
    "\n",
    "def process_line(line: str) -> list[str]:\n",
    "    tokens = line.split('\\t')\n",
    "    return tokens\n",
    "    \n",
    "def iter_process(it):\n",
    "    punkt = ['.', 'PUNCT']\n",
    "    \n",
    "    last_pos = 'X'\n",
    "    try:\n",
    "        while True:\n",
    "            line = next(it)\n",
    "            tokens = process_line(line)\n",
    "            if len(tokens) < 2:\n",
    "                continue    \n",
    "            elif tokens[1][0] == '<':\n",
    "                if tokens[1][1] == 'e' and last_pos != 'PUNCT':  #end\n",
    "                    last_pos = 'PUNCT'\n",
    "                    yield punkt\n",
    "                continue\n",
    "            \n",
    "            word_str = tokens[1]\n",
    "            characteristics_str = tokens[2]\n",
    "            \n",
    "            sep_index = characteristics_str.find('|')\n",
    "            pos_str = characteristics_str[:sep_index]\n",
    "            \n",
    "            last_pos = pos_str\n",
    "            yield [word_str, pos_str]\n",
    "    except StopIteration:\n",
    "        it.seek(0)\n",
    "        return"
   ],
   "metadata": {
    "collapsed": false,
    "ExecuteTime": {
     "end_time": "2025-04-07T08:22:08.683279300Z",
     "start_time": "2025-04-07T08:22:08.672238300Z"
    }
   },
   "id": "a93b1389e415c733",
   "execution_count": 1
  },
  {
   "cell_type": "code",
   "outputs": [
    {
     "name": "stdout",
     "output_type": "stream",
     "text": [
      "['рой', 'VERB']\n",
      "['колодец', 'NOUN']\n",
      "['.', 'PUNCT']\n",
      "['рой', 'VERB']\n",
      "['погреб', 'NOUN']\n",
      "['.', 'PUNCT']\n",
      "['рой', 'VERB']\n",
      "['укрытие', 'NOUN']\n",
      "['.', 'PUNCT']\n",
      "['я', 'PRON']\n"
     ]
    }
   ],
   "source": [
    "corpus_it = iter_process(f)\n",
    "corpus = list(corpus_it)\n",
    "\n",
    "for i in range(10):\n",
    "    print(corpus[i])"
   ],
   "metadata": {
    "collapsed": false,
    "ExecuteTime": {
     "end_time": "2025-04-07T08:22:11.550864100Z",
     "start_time": "2025-04-07T08:22:09.465422700Z"
    }
   },
   "id": "dcaee7e2f5dd1aab",
   "execution_count": 2
  },
  {
   "cell_type": "markdown",
   "source": [
    "## Попытка обучить нейросеть с прямой связью\n",
    "Первый вопрос, который возник при виде условия - \"Почему LSTM/RNN?\"\n",
    "В качестве эксперимента и ответа на вопрос рассмотрим результаты обучения нейросети только с Linear и Dropout слоями на самописных эмбеддингах слов.\n",
    "\n",
    "### Расчёт эмбеддингов слов. \n",
    "Рассчитываем эмбеддинг на основе количества символов с конца слова (предполагаем, что последние символы - изменяемые части слова, поэтому могут определять часть речи) для расчёта.\n",
    "\n",
    "### Предобработка результирующего столбца (часть речи)\n",
    "Категориальный признак преобразуем в числовое значение в диапазоне $[1, n]$, где $n$ - количество классов (частей речи) в датасете."
   ],
   "metadata": {
    "collapsed": false
   },
   "id": "8f79bb671c568ba8"
  },
  {
   "cell_type": "code",
   "outputs": [
    {
     "name": "stdout",
     "output_type": "stream",
     "text": [
      "0 [  0   0   0   0   0   0   0   0   0 224 222 217] 1\n",
      "1 [  0   0   0   0   0 218 222 219 222 212 213 230] 0\n",
      "2 [ 0  0  0  0  0  0  0  0  0  0  0 46] 5\n",
      "3 [  0   0   0   0   0   0   0   0   0 224 222 217] 1\n",
      "4 [  0   0   0   0   0   0 223 222 211 224 213 209] 0\n"
     ]
    }
   ],
   "source": [
    "from wannabe_embedder import make_embeddings_and_outputs\n",
    "\n",
    "n = 12\n",
    "embedding_dim = n\n",
    "\n",
    "indexes_in_corpus, embeddings, outputs = make_embeddings_and_outputs(corpus, n)\n",
    "\n",
    "for i in range(5):\n",
    "    print(indexes_in_corpus[i], embeddings[i], outputs[i])"
   ],
   "metadata": {
    "collapsed": false,
    "ExecuteTime": {
     "end_time": "2025-03-24T10:43:17.460388300Z",
     "start_time": "2025-03-24T10:43:14.104734700Z"
    }
   },
   "id": "95fb5b457a5eb154",
   "execution_count": 11
  },
  {
   "cell_type": "code",
   "outputs": [],
   "source": [
    "from helpers import save_embeddings_data\n",
    "\n",
    "save_embeddings_data(indexes_in_corpus, embeddings, outputs, 'embeddings/embeddings.pkl')"
   ],
   "metadata": {
    "collapsed": false
   },
   "id": "4a7100b4beab0eb2",
   "execution_count": null
  },
  {
   "cell_type": "code",
   "outputs": [],
   "source": [
    "from helpers import load_embeddings_data\n",
    "\n",
    "indexes_in_corpus, embeddings, outputs = load_embeddings_data('embeddings/embeddings.pkl')"
   ],
   "metadata": {
    "collapsed": false
   },
   "id": "7eb5ebf4db066a75",
   "execution_count": null
  },
  {
   "cell_type": "markdown",
   "source": [
    "## Построение и обучение нейросети"
   ],
   "metadata": {
    "collapsed": false
   },
   "id": "774e875b2f1dc25f"
  },
  {
   "cell_type": "code",
   "outputs": [
    {
     "name": "stdout",
     "output_type": "stream",
     "text": [
      "Using cuda device\n"
     ]
    }
   ],
   "source": [
    "import torch\n",
    "\n",
    "device = torch.accelerator.current_accelerator().type if torch.accelerator.is_available() else \"cpu\"\n",
    "print(f\"Using {device} device\")\n",
    "\n",
    "# !nvidia-smi"
   ],
   "metadata": {
    "collapsed": false,
    "ExecuteTime": {
     "end_time": "2025-03-24T10:43:23.564086200Z",
     "start_time": "2025-03-24T10:43:21.204458700Z"
    }
   },
   "id": "8bc32b6b880a8c04",
   "execution_count": 12
  },
  {
   "cell_type": "markdown",
   "source": [
    "Преобразуем массивы входных данных в тензоры PyTorch, создадим загрузчик данных. Размер батча задаём большим, так как используется GPU"
   ],
   "metadata": {
    "collapsed": false
   },
   "id": "de7d6d8898b7eac0"
  },
  {
   "cell_type": "code",
   "outputs": [],
   "source": [
    "from torch.utils.data import TensorDataset, DataLoader\n",
    "from torch import nn\n",
    "import torch.nn.functional as F\n",
    "\n",
    "tensor_embeddings = torch.Tensor(embeddings).to(device)\n",
    "tensor_outputs = torch.Tensor(outputs).to(device)"
   ],
   "metadata": {
    "collapsed": false
   },
   "id": "a501f6d669882054",
   "execution_count": null
  },
  {
   "cell_type": "code",
   "outputs": [],
   "source": [
    "pos_dataset = TensorDataset(tensor_embeddings, tensor_outputs)\n",
    "batch_size = 2048\n",
    "pos_dataloader = DataLoader(pos_dataset, batch_size=batch_size)"
   ],
   "metadata": {
    "collapsed": false,
    "ExecuteTime": {
     "end_time": "2025-03-24T10:43:29.685892500Z",
     "start_time": "2025-03-24T10:43:29.675822Z"
    }
   },
   "id": "94a12d8fd84a9747",
   "execution_count": 14
  },
  {
   "cell_type": "markdown",
   "source": [
    "Зададим нейросеть с прямыми связями"
   ],
   "metadata": {
    "collapsed": false
   },
   "id": "8281e5b88e25a778"
  },
  {
   "cell_type": "code",
   "outputs": [
    {
     "name": "stdout",
     "output_type": "stream",
     "text": [
      "SimplePOSTagger(\n",
      "  (fc1): Linear(in_features=12, out_features=128, bias=True)\n",
      "  (dropout): Dropout(p=0.1, inplace=False)\n",
      "  (fc3): Linear(in_features=128, out_features=15, bias=True)\n",
      ")\n"
     ]
    }
   ],
   "source": [
    "from constants import POS_MAPPING\n",
    "\n",
    "\n",
    "class SimplePOSTagger(nn.Module):\n",
    "    def __init__(self, embedding_dim, hidden_dim, num_tags):\n",
    "        super(SimplePOSTagger, self).__init__()\n",
    "        \n",
    "        self.fc1 = nn.Linear(embedding_dim, hidden_dim).to(device)\n",
    "        # self.fc2 = nn.Linear(hidden_dim, hidden_dim).to(device)\n",
    "        self.dropout = nn.Dropout(0.1).to(device)\n",
    "        self.fc3 = nn.Linear(hidden_dim, num_tags).to(device)\n",
    "        \n",
    "    def forward(self, x):\n",
    "        x = F.relu(self.fc1(x))\n",
    "        # x = F.relu(self.fc2(x))\n",
    "        x = self.dropout(x)\n",
    "        x = self.fc3(x)\n",
    "        return x\n",
    "\n",
    "hidden_dim = 128\n",
    "num_tags = len(POS_MAPPING)\n",
    "model = SimplePOSTagger(embedding_dim=embedding_dim, hidden_dim=hidden_dim, num_tags=num_tags).to(device)\n",
    "print(model)\n",
    "\n",
    "loss = nn.CrossEntropyLoss()\n",
    "loss.to(device)\n",
    "optimizer = torch.optim.Adam(model.parameters(), lr=0.001)"
   ],
   "metadata": {
    "collapsed": false,
    "ExecuteTime": {
     "end_time": "2025-03-24T10:43:37.340863200Z",
     "start_time": "2025-03-24T10:43:35.891175900Z"
    }
   },
   "id": "463e95ec55429b57",
   "execution_count": 15
  },
  {
   "cell_type": "code",
   "outputs": [
    {
     "name": "stdout",
     "output_type": "stream",
     "text": [
      "epoch 1,\tloss: 3.6374,\taccuracy: 0.4261\n",
      "epoch 2,\tloss: 1.1185,\taccuracy: 0.5610\n",
      "epoch 3,\tloss: 1.0566,\taccuracy: 0.5734\n",
      "epoch 4,\tloss: 1.0375,\taccuracy: 0.5808\n",
      "epoch 5,\tloss: 1.0236,\taccuracy: 0.5864\n",
      "epoch 6,\tloss: 1.0137,\taccuracy: 0.5895\n",
      "epoch 7,\tloss: 1.0042,\taccuracy: 0.5939\n",
      "epoch 8,\tloss: 0.9964,\taccuracy: 0.5970\n",
      "epoch 9,\tloss: 0.9888,\taccuracy: 0.6001\n",
      "epoch 10,\tloss: 0.9782,\taccuracy: 0.6060\n",
      "epoch 11,\tloss: 0.9689,\taccuracy: 0.6105\n",
      "epoch 12,\tloss: 0.9603,\taccuracy: 0.6140\n",
      "epoch 13,\tloss: 0.9535,\taccuracy: 0.6157\n",
      "epoch 14,\tloss: 0.9470,\taccuracy: 0.6184\n",
      "epoch 15,\tloss: 0.9442,\taccuracy: 0.6189\n",
      "epoch 16,\tloss: 0.9391,\taccuracy: 0.6210\n",
      "epoch 17,\tloss: 0.9351,\taccuracy: 0.6219\n",
      "epoch 18,\tloss: 0.9309,\taccuracy: 0.6238\n",
      "epoch 19,\tloss: 0.9270,\taccuracy: 0.6253\n",
      "epoch 20,\tloss: 0.9241,\taccuracy: 0.6267\n",
      "epoch 21,\tloss: 0.9208,\taccuracy: 0.6282\n",
      "epoch 22,\tloss: 0.9173,\taccuracy: 0.6292\n",
      "epoch 23,\tloss: 0.9146,\taccuracy: 0.6298\n",
      "epoch 24,\tloss: 0.9134,\taccuracy: 0.6302\n",
      "epoch 25,\tloss: 0.9108,\taccuracy: 0.6312\n"
     ]
    }
   ],
   "source": [
    "num_epochs = 25\n",
    "model.train()\n",
    "\n",
    "for epoch in range(num_epochs):\n",
    "    running_loss = 0.0\n",
    "    correct = 0\n",
    "    total = 0\n",
    "    \n",
    "    for batch_idx, (inputs, labels) in enumerate(pos_dataloader):\n",
    "        # Обнуляем градиенты\n",
    "        optimizer.zero_grad()\n",
    "        \n",
    "        # Forward pass\n",
    "        outputs = model(inputs)\n",
    "        loss_value = loss(outputs, labels.long())\n",
    "        \n",
    "        # Backward pass и оптимизация\n",
    "        loss_value.backward()\n",
    "        optimizer.step()\n",
    "        \n",
    "        running_loss += loss_value.item()\n",
    "        _, predicted = torch.max(outputs.data, 1)\n",
    "        correct += (predicted == labels).sum().item()\n",
    "        total += labels.size(0)\n",
    "    \n",
    "    epoch_loss = running_loss / len(pos_dataloader)\n",
    "    accuracy = correct / total\n",
    "    \n",
    "    print(f'epoch {epoch + 1},\\tloss: {epoch_loss:.4f},\\taccuracy: {accuracy:.4f}')"
   ],
   "metadata": {
    "collapsed": false,
    "ExecuteTime": {
     "end_time": "2025-03-24T10:47:56.496342Z",
     "start_time": "2025-03-24T10:43:41.083635700Z"
    }
   },
   "id": "99178acbc8eacf7",
   "execution_count": 16
  },
  {
   "cell_type": "code",
   "outputs": [],
   "source": [
    "from constants import MODEL_PATH\n",
    "from helpers import save_model\n",
    "\n",
    "save_model(model, optimizer, num_epochs, epoch_loss, MODEL_PATH)"
   ],
   "metadata": {
    "collapsed": false,
    "ExecuteTime": {
     "end_time": "2025-03-24T10:48:08.109884900Z",
     "start_time": "2025-03-24T10:48:08.071341Z"
    }
   },
   "id": "dff62bfa3af79233",
   "execution_count": 17
  },
  {
   "cell_type": "markdown",
   "source": [
    "## Примеры предсказаний"
   ],
   "metadata": {
    "collapsed": false
   },
   "id": "bedffa76b2f7dce1"
  },
  {
   "cell_type": "code",
   "outputs": [],
   "source": [
    "def evaluate_model(model, dataloader):\n",
    "    model.eval()\n",
    "    predictions = []\n",
    "    labels = []\n",
    "    \n",
    "    with torch.no_grad():\n",
    "        for inputs, targets in dataloader:\n",
    "            outputs = model(inputs)\n",
    "            _, predicted = torch.max(outputs.data, 1)\n",
    "            \n",
    "            predictions.extend(predicted.cpu().numpy())\n",
    "            labels.extend(targets.cpu().numpy())\n",
    "            \n",
    "    return predictions, labels"
   ],
   "metadata": {
    "collapsed": false,
    "ExecuteTime": {
     "end_time": "2025-03-24T11:45:14.076644400Z",
     "start_time": "2025-03-24T11:45:14.067056400Z"
    }
   },
   "id": "ebcdc131ec0aec07",
   "execution_count": 82
  },
  {
   "cell_type": "code",
   "outputs": [
    {
     "name": "stdout",
     "output_type": "stream",
     "text": [
      "       Слово         |     Прогноз     |    Фактически  \n",
      "--------------------------------------------------------\n",
      "ребята               |      NOUN       |      NOUN      \n",
      ",                    |      PUNCT      |      PUNCT     \n",
      "которые              |      NOUN       |       ADJ      \n",
      "посмелей             |      NOUN       |       ADJ      \n",
      ",                    |      PUNCT      |      PUNCT     \n",
      "конечно              |      NOUN       |       ADV      \n",
      ",                    |      PUNCT      |      PUNCT     \n",
      "уехали               |      NOUN       |      VERB      \n",
      "на                   |       ADP       |       ADP      \n",
      "крышах               |      NOUN       |      NOUN      \n",
      "и                    |       ADP       |      CONJ      \n",
      "на                   |       ADP       |       ADP      \n",
      "подножках            |      VERB       |      NOUN      \n",
      ",                    |      PUNCT      |      PUNCT     \n",
      "а                    |       ADP       |      CONJ      \n",
      "я                    |       ADP       |      PRON      \n",
      "не                   |      PART       |      PART      \n",
      "могла                |      NOUN       |      VERB      \n",
      "так                  |       ADV       |       ADV      \n",
      "…                    |      PUNCT      |      PUNCT     \n"
     ]
    }
   ],
   "source": [
    "from constants import INVERSE_POS_MAPPING\n",
    "\n",
    "test_f = open(\"test_samples\", mode=\"r\", encoding=\"utf-8\")\n",
    "test_corpus_it = iter_process(test_f)\n",
    "test_corpus = list(test_corpus_it)\n",
    "\n",
    "test_f.close()\n",
    "\n",
    "test_idx_in_corpus, test_embeddings, test_outputs = make_embeddings_and_outputs(test_corpus, n)\n",
    "\n",
    "test_embeddings = torch.Tensor(test_embeddings).to(device)\n",
    "test_outputs = torch.Tensor(test_outputs).to(device)\n",
    "\n",
    "test_dataset = TensorDataset(\n",
    "    test_embeddings,\n",
    "    test_outputs\n",
    ")\n",
    "test_dataloader = DataLoader(test_dataset, batch_size=batch_size)\n",
    "\n",
    "predictions, labels = evaluate_model(model, test_dataloader)\n",
    "\n",
    "heads = ['Слово', 'Прогноз', 'Фактически']\n",
    "print(*[f\"{heads[0]:^20} | \", f\"{heads[1]:^14} | \", f\"{heads[2]:^14}\"])\n",
    "print(\"-\" * (22 + 17 + 17))\n",
    "\n",
    "for i, index_in_corpus in enumerate(test_idx_in_corpus):\n",
    "    word = test_corpus[index_in_corpus][0]\n",
    "    pred_tag = INVERSE_POS_MAPPING[predictions[i]]\n",
    "    actual_tag = test_corpus[index_in_corpus][1]\n",
    "\n",
    "    print(f\"{word:20} | {pred_tag:^15} | {actual_tag:^15}\")"
   ],
   "metadata": {
    "collapsed": false,
    "ExecuteTime": {
     "end_time": "2025-03-24T10:50:17.887002100Z",
     "start_time": "2025-03-24T10:50:17.880237900Z"
    }
   },
   "id": "399adcbf0ff5f562",
   "execution_count": 30
  },
  {
   "cell_type": "code",
   "outputs": [],
   "source": [
    "from helpers import load_model\n",
    "\n",
    "loaded_model, loaded_optimizer, loaded_epoch, loaded_loss = load_model(model, optimizer, MODEL_PATH)\n"
   ],
   "metadata": {
    "collapsed": false,
    "ExecuteTime": {
     "end_time": "2025-03-24T10:48:57.420067700Z",
     "start_time": "2025-03-24T10:48:57.401425Z"
    }
   },
   "id": "71c7e1e85fd2cbb1",
   "execution_count": 22
  },
  {
   "cell_type": "markdown",
   "source": [
    "## Словарь с индексами слов для эмбеддингов"
   ],
   "metadata": {
    "collapsed": false
   },
   "id": "f0184f528a148f4a"
  },
  {
   "cell_type": "code",
   "outputs": [],
   "source": [
    "class SecondPOSTagger(nn.Module):\n",
    "    def __init__(self, vocab_size: int, embedding_dim: int, hidden_dim: int, \n",
    "                 pos_tag_count: int):\n",
    "        super(SecondPOSTagger, self).__init__()\n",
    "        self.embedding = nn.Embedding(vocab_size, embedding_dim)\n",
    "        self.fc1 = nn.Linear(embedding_dim, hidden_dim)\n",
    "        self.dropout = nn.Dropout(p=0.2)\n",
    "        self.fc2 = nn.Linear(hidden_dim, pos_tag_count)\n",
    "\n",
    "    def forward(self, x):\n",
    "        embeds = self.embedding(x)\n",
    "        out = F.relu(self.fc1(embeds))\n",
    "        out = self.dropout(out)\n",
    "        return self.fc2(out)"
   ],
   "metadata": {
    "collapsed": false,
    "ExecuteTime": {
     "end_time": "2025-03-24T11:13:00.119067Z",
     "start_time": "2025-03-24T11:13:00.094369100Z"
    }
   },
   "id": "eafa02b28740e37f",
   "execution_count": 54
  },
  {
   "cell_type": "code",
   "outputs": [],
   "source": [
    "from typing import Tuple, Dict, List\n",
    "\n",
    "\n",
    "def prepare_data(corpus: List[Tuple[str, str]]) -> Tuple[Dict[str, int], Dict[str, int]]:\n",
    "    word_to_ix = {}\n",
    "    pos_to_ix = {}\n",
    "    \n",
    "    # Создаем словари для слов и частей речи\n",
    "    for word, pos in corpus:\n",
    "        if word not in word_to_ix:\n",
    "            word_to_ix[word] = len(word_to_ix)\n",
    "        if pos not in pos_to_ix:\n",
    "            pos_to_ix[pos] = len(pos_to_ix)\n",
    "    \n",
    "    return word_to_ix, pos_to_ix\n",
    "\n",
    "def train_model(model: SecondPOSTagger, device: torch.device, \n",
    "                optimizer: torch.optim.Optimizer, loss_fn: nn.CrossEntropyLoss,\n",
    "                batch: Tuple[torch.Tensor, torch.Tensor]) -> float:\n",
    "    model.train()\n",
    "    optimizer.zero_grad()\n",
    "    \n",
    "    inputs, labels = batch\n",
    "    inputs, labels = inputs.to(device), labels.to(device)\n",
    "    \n",
    "    outputs = model(inputs)\n",
    "    loss = loss_fn(outputs, labels)\n",
    "    \n",
    "    loss.backward()\n",
    "    optimizer.step()\n",
    "    \n",
    "    return loss.item()\n",
    "\n",
    "\n",
    "def evaluate_second_model(model: SecondPOSTagger, device: torch.device, loss_fn: nn.CrossEntropyLoss, batch: Tuple[torch.Tensor, torch.Tensor]) -> Tuple[float, float]:\n",
    "    model.eval()\n",
    "    inputs, labels = batch\n",
    "    inputs, labels = inputs.to(device), labels.to(device)\n",
    "    \n",
    "    outputs = model(inputs)\n",
    "    loss = loss_fn(outputs, labels)\n",
    "    _, predicted = torch.max(outputs, dim=1)\n",
    "    accuracy = (predicted == labels).sum().item() / len(labels)\n",
    "    \n",
    "    return loss.item(), accuracy\n",
    "\n",
    "\n",
    "def apply_model_on_new_data(model: SecondPOSTagger, device: torch.device, word_to_ix: Dict[str, int], pos_to_ix: Dict[str, int]) -> None:\n",
    "    test_f = open(\"test_samples\", mode=\"r\", encoding=\"utf-8\")\n",
    "    test_corpus_it = iter_process(test_f)\n",
    "    test_corpus = list(test_corpus_it)\n",
    "    test_f.close()\n",
    "    \n",
    "    word_indices = [word_to_ix.get(word, 0) for word, _ in test_corpus]\n",
    "    pos_indices = [pos_to_ix[pos] for _, pos in test_corpus]\n",
    "    \n",
    "    inputs_tensor = torch.tensor(word_indices, dtype=torch.long).to(device)\n",
    "    labels_tensor = torch.tensor(pos_indices, dtype=torch.long).to(device)\n",
    "    \n",
    "    test_dataset = TensorDataset(inputs_tensor, labels_tensor)\n",
    "    test_dataloader = DataLoader(test_dataset, batch_size=batch_size)\n",
    "    \n",
    "    predictions, labels = evaluate_model(model, test_dataloader)\n",
    "    \n",
    "    heads = ['Слово', 'Прогноз', 'Фактически']\n",
    "    print(*[f\"{heads[0]:^20} | \", f\"{heads[1]:^14} | \", f\"{heads[2]:^14}\"])\n",
    "    print(\"-\" * (22 + 17 + 17))\n",
    "    \n",
    "    # Получаем обратные отображения для частей речи\n",
    "    inverse_pos_mapping = {v: k for k, v in pos_to_ix.items()}\n",
    "    \n",
    "    for i, (word, pos) in enumerate(test_corpus):\n",
    "        pred_tag = inverse_pos_mapping[predictions[i]]\n",
    "        actual_tag = pos\n",
    "        print(f\"{word:20} | {pred_tag:^15} | {actual_tag:^15}\")"
   ],
   "metadata": {
    "collapsed": false,
    "ExecuteTime": {
     "end_time": "2025-03-24T11:44:40.690132400Z",
     "start_time": "2025-03-24T11:44:40.676980600Z"
    }
   },
   "id": "4aa05175f993943b",
   "execution_count": 80
  },
  {
   "cell_type": "code",
   "outputs": [
    {
     "name": "stdout",
     "output_type": "stream",
     "text": [
      "SecondPOSTagger(\n",
      "  (embedding): Embedding(111008, 100)\n",
      "  (fc1): Linear(in_features=100, out_features=128, bias=True)\n",
      "  (dropout): Dropout(p=0.2, inplace=False)\n",
      "  (fc2): Linear(in_features=128, out_features=12, bias=True)\n",
      ")\n"
     ]
    }
   ],
   "source": [
    "embedding_dim = 100\n",
    "hidden_dim = 128\n",
    "batch_size = 1024\n",
    "epochs = 10\n",
    "\n",
    "word_to_ix, pos_to_ix = prepare_data(corpus)\n",
    "vocab_size = len(word_to_ix)\n",
    "pos_tag_count = len(pos_to_ix)\n",
    "\n",
    "# Создание модели и оптимизатора\n",
    "model = SecondPOSTagger(vocab_size, embedding_dim, hidden_dim, pos_tag_count)\n",
    "model.to(device)\n",
    "\n",
    "optimizer = torch.optim.Adam(model.parameters(), lr=0.001)\n",
    "loss_fn = nn.CrossEntropyLoss()\n",
    "\n",
    "print(model)"
   ],
   "metadata": {
    "collapsed": false,
    "ExecuteTime": {
     "end_time": "2025-03-24T11:51:36.248555900Z",
     "start_time": "2025-03-24T11:51:35.914293900Z"
    }
   },
   "id": "b50d9adced0d6a0c",
   "execution_count": 85
  },
  {
   "cell_type": "code",
   "outputs": [
    {
     "name": "stdout",
     "output_type": "stream",
     "text": [
      "epoch 1, batch 500/1020, train loss: 0.6738, test loss: 0.5755, accuracy: 0.7200\n",
      "epoch 1, batch 1000/1020, train loss: 0.5755, test loss: 0.4469, accuracy: 0.8300\n",
      "epoch 2, batch 500/1020, train loss: 0.3655, test loss: 0.3688, accuracy: 0.8600\n",
      "epoch 2, batch 1000/1020, train loss: 0.3396, test loss: 0.3480, accuracy: 0.8900\n",
      "epoch 3, batch 500/1020, train loss: 0.2526, test loss: 0.3195, accuracy: 0.9100\n",
      "epoch 3, batch 1000/1020, train loss: 0.2407, test loss: 0.3041, accuracy: 0.9100\n",
      "epoch 4, batch 500/1020, train loss: 0.1888, test loss: 0.2997, accuracy: 0.9100\n",
      "epoch 4, batch 1000/1020, train loss: 0.1824, test loss: 0.2753, accuracy: 0.9200\n",
      "epoch 5, batch 500/1020, train loss: 0.1457, test loss: 0.2780, accuracy: 0.9100\n",
      "epoch 5, batch 1000/1020, train loss: 0.1431, test loss: 0.2929, accuracy: 0.9100\n",
      "epoch 6, batch 500/1020, train loss: 0.1169, test loss: 0.2697, accuracy: 0.9200\n",
      "epoch 6, batch 1000/1020, train loss: 0.1154, test loss: 0.2830, accuracy: 0.9200\n",
      "epoch 7, batch 500/1020, train loss: 0.0966, test loss: 0.2882, accuracy: 0.9300\n",
      "epoch 7, batch 1000/1020, train loss: 0.0953, test loss: 0.2635, accuracy: 0.9400\n",
      "epoch 8, batch 500/1020, train loss: 0.0807, test loss: 0.2799, accuracy: 0.9400\n",
      "epoch 8, batch 1000/1020, train loss: 0.0803, test loss: 0.3080, accuracy: 0.9300\n",
      "epoch 9, batch 500/1020, train loss: 0.0692, test loss: 0.2869, accuracy: 0.9300\n",
      "epoch 9, batch 1000/1020, train loss: 0.0690, test loss: 0.3016, accuracy: 0.9400\n",
      "epoch 10, batch 500/1020, train loss: 0.0602, test loss: 0.3285, accuracy: 0.9300\n",
      "epoch 10, batch 1000/1020, train loss: 0.0601, test loss: 0.3065, accuracy: 0.9500\n"
     ]
    }
   ],
   "source": [
    "word_indices = [word_to_ix[word] for word, _ in corpus]\n",
    "pos_indices = [pos_to_ix[pos] for _, pos in corpus]\n",
    "\n",
    "train_inputs = torch.tensor(word_indices[:-100], dtype=torch.long)\n",
    "train_labels = torch.tensor(pos_indices[:-100], dtype=torch.long)\n",
    "test_inputs = torch.tensor(word_indices[-100:], dtype=torch.long)\n",
    "test_labels = torch.tensor(pos_indices[-100:], dtype=torch.long)\n",
    "\n",
    "for epoch in range(epochs):\n",
    "    indices = torch.randperm(len(train_inputs))\n",
    "    train_inputs = train_inputs[indices]\n",
    "    train_labels = train_labels[indices]\n",
    "    \n",
    "    total_loss = 0\n",
    "    batches = len(train_inputs) // batch_size\n",
    "    \n",
    "    for i in range(batches):\n",
    "        start_idx = i * batch_size\n",
    "        inputs_batch = train_inputs[start_idx:start_idx + batch_size]\n",
    "        labels_batch = train_labels[start_idx:start_idx + batch_size]\n",
    "        \n",
    "        batch = (inputs_batch, labels_batch)\n",
    "        loss = train_model(model, device, optimizer, loss_fn, batch)\n",
    "        total_loss += loss\n",
    "        \n",
    "        if (i + 1) % 500 == 0:\n",
    "            test_batch = (test_inputs[:batch_size], test_labels[:batch_size])\n",
    "            test_loss, accuracy = evaluate_second_model(model, device, loss_fn, test_batch)\n",
    "            print(f'epoch {epoch+1}, batch {i+1}/{batches}, train loss: {total_loss/(i+1):.4f}, test loss: {test_loss:.4f}, accuracy: {accuracy:.4f}')"
   ],
   "metadata": {
    "collapsed": false,
    "ExecuteTime": {
     "end_time": "2025-03-24T11:53:31.712663Z",
     "start_time": "2025-03-24T11:51:44.221434Z"
    }
   },
   "id": "d50d783952aeaf85",
   "execution_count": 87
  },
  {
   "cell_type": "code",
   "outputs": [],
   "source": [
    "from helpers import save_model\n",
    "\n",
    "save_model(model, optimizer, num_epochs, epoch_loss, \"pos_tagger_model2\")"
   ],
   "metadata": {
    "collapsed": false,
    "ExecuteTime": {
     "end_time": "2025-03-24T11:55:50.345856600Z",
     "start_time": "2025-03-24T11:55:49.732341Z"
    }
   },
   "id": "1197bbf6c79419de",
   "execution_count": 91
  },
  {
   "cell_type": "code",
   "outputs": [
    {
     "name": "stdout",
     "output_type": "stream",
     "text": [
      "       Слово         |     Прогноз     |    Фактически  \n",
      "--------------------------------------------------------\n",
      "очень                |       ADV       |        X       \n",
      "сложная              |       ADJ       |        X       \n",
      "лабораторная         |      VERB       |        X       \n",
      "попалась             |      VERB       |        X       \n",
      ",                    |      PUNCT      |        X       \n",
      "не                   |      PART       |        X       \n",
      "получается           |      VERB       |        X       \n",
      "её                   |      VERB       |        X       \n",
      "доделать             |      VERB       |        X       \n",
      "в                    |       ADP       |        X       \n",
      "срок                 |      NOUN       |        X       \n",
      ".                    |      PUNCT      |      PUNCT     \n",
      "ребята               |      NOUN       |      NOUN      \n",
      ",                    |      PUNCT      |      PUNCT     \n",
      "которые              |       ADJ       |       ADJ      \n",
      "посмелей             |      VERB       |        X       \n",
      ",                    |      PUNCT      |      PUNCT     \n",
      "конечно              |       ADV       |       ADV      \n",
      ",                    |      PUNCT      |      PUNCT     \n",
      "уехали               |      VERB       |      VERB      \n",
      "на                   |       ADP       |       ADP      \n",
      "крышах               |      NOUN       |      NOUN      \n",
      "и                    |      CONJ       |      CONJ      \n",
      "на                   |       ADP       |       ADP      \n",
      "подножках            |      VERB       |      NOUN      \n",
      ",                    |      PUNCT      |      PUNCT     \n",
      "а                    |      CONJ       |      CONJ      \n",
      "я                    |      PRON       |      PRON      \n",
      "не                   |      PART       |      PART      \n",
      "могла                |      VERB       |      VERB      \n",
      "так                  |       ADV       |       ADV      \n",
      "…                    |      VERB       |      PUNCT     \n"
     ]
    }
   ],
   "source": [
    "apply_model_on_new_data(model, device, word_to_ix, pos_to_ix)"
   ],
   "metadata": {
    "collapsed": false,
    "ExecuteTime": {
     "end_time": "2025-03-24T11:55:06.376801500Z",
     "start_time": "2025-03-24T11:55:06.364322Z"
    }
   },
   "id": "1aef7e3bfe7f4a06",
   "execution_count": 90
  },
  {
   "cell_type": "markdown",
   "source": [
    "Получилась неплохая точность (95%), но модель не работает на данных, которых не было в маппинге тренировочного датасета. Это проблема эмбеддингов, а не самой модели.\n",
    "Также модель имеет очень большой размер (130 МБ) за счет слоя эмбеддингов. \n",
    "Попробуем устранить эти недостатки."
   ],
   "metadata": {
    "collapsed": false
   },
   "id": "ca93c60f5bc536f5"
  },
  {
   "cell_type": "markdown",
   "source": [
    "## Нормальные эмбеддинги (navec)\n",
    "\n",
    "https://storage.yandexcloud.net/natasha-navec/packs/navec_hudlit_v1_12B_500K_300d_100q.tar"
   ],
   "metadata": {
    "collapsed": false
   },
   "id": "f208990f64e2d33"
  },
  {
   "cell_type": "code",
   "outputs": [],
   "source": [
    "from navec import Navec\n",
    "\n",
    "navec = Navec.load('embeddings/navec_hudlit_v1_12B_500K_300d_100q.tar')"
   ],
   "metadata": {
    "collapsed": false,
    "ExecuteTime": {
     "end_time": "2025-04-07T09:16:02.160238800Z",
     "start_time": "2025-04-07T09:16:01.292665400Z"
    }
   },
   "id": "e82c38a4f021d157",
   "execution_count": 89
  },
  {
   "cell_type": "code",
   "outputs": [],
   "source": [
    "# Построение предложений\n",
    "sentences, tags = [], []\n",
    "current_sentence, current_tags = [], []\n",
    "\n",
    "for word, tag in corpus:\n",
    "    current_sentence.append(word)\n",
    "    current_tags.append(tag)\n",
    "    if word == '.':\n",
    "        sentences.append(current_sentence)\n",
    "        tags.append(current_tags)\n",
    "        current_sentence, current_tags = [], []\n",
    "\n",
    "# Словарь тегов\n",
    "tag2idx = {tag: idx for idx, tag in enumerate(set(tag for s in tags for tag in s))}\n",
    "idx2tag = {idx: tag for tag, idx in tag2idx.items()}"
   ],
   "metadata": {
    "collapsed": false,
    "ExecuteTime": {
     "end_time": "2025-04-07T09:54:47.190087300Z",
     "start_time": "2025-04-07T09:54:46.494075500Z"
    }
   },
   "id": "a2014b672a8bfa9e",
   "execution_count": 134
  },
  {
   "cell_type": "code",
   "outputs": [],
   "source": [
    "from torch.utils.data import Dataset\n",
    "\n",
    "\n",
    "class PosDataset(Dataset):\n",
    "    def __init__(self, sentences, tags):\n",
    "        self.sentences = sentences\n",
    "        self.tags = tags\n",
    "\n",
    "    def __len__(self):\n",
    "        return len(self.sentences)\n",
    "\n",
    "    def __getitem__(self, idx):\n",
    "        sentence = self.sentences[idx]\n",
    "        tag_seq = self.tags[idx]\n",
    "        vectors = [torch.tensor(navec.get(w, navec['<unk>'])) for w in sentence]\n",
    "        tag_ids = torch.tensor([tag2idx[t] for t in tag_seq])\n",
    "        return torch.stack(vectors), tag_ids, sentence  # добавляем слова для вывода\n",
    "\n",
    "def collate_fn(batch):\n",
    "    sentences, tags, words = zip(*batch)\n",
    "    sentences_padded = pad_sequence(sentences, batch_first=True)\n",
    "    tags_padded = pad_sequence(tags, batch_first=True, padding_value=-1)\n",
    "    lengths = torch.tensor([len(s) for s in sentences])\n",
    "    return sentences_padded, tags_padded, lengths, words"
   ],
   "metadata": {
    "collapsed": false,
    "ExecuteTime": {
     "end_time": "2025-04-07T09:54:48.404976700Z",
     "start_time": "2025-04-07T09:54:48.384843400Z"
    }
   },
   "id": "c4fd137b43b405f",
   "execution_count": 135
  },
  {
   "cell_type": "code",
   "outputs": [],
   "source": [
    "from sklearn.model_selection import train_test_split\n",
    "from torch.utils.data import DataLoader\n",
    "\n",
    "\n",
    "batch_size = 2048\n",
    "num_epochs = 10\n",
    "\n",
    "train_sents, test_sents, train_tags, test_tags = train_test_split(sentences, tags, test_size=0.2, random_state=42)\n",
    "\n",
    "train_loader = DataLoader(PosDataset(train_sents, train_tags), batch_size=batch_size, shuffle=True, collate_fn=collate_fn)\n",
    "test_loader = DataLoader(PosDataset(test_sents, test_tags), batch_size=batch_size, shuffle=False, collate_fn=collate_fn)\n",
    "\n",
    "# min = 107\n",
    "# max = min + 1\n",
    "# print(test_sents[min:max], test_tags[min:max])\n"
   ],
   "metadata": {
    "collapsed": false,
    "ExecuteTime": {
     "end_time": "2025-04-07T09:55:13.701303400Z",
     "start_time": "2025-04-07T09:55:13.648707Z"
    }
   },
   "id": "257a7f034d3bd567",
   "execution_count": 140
  },
  {
   "cell_type": "code",
   "outputs": [],
   "source": [
    "import torch\n",
    "import torch.nn as nn\n",
    "import torch.optim as optim\n",
    "\n",
    "\n",
    "class POSTagger(nn.Module):\n",
    "    def __init__(self, embedding_dim, hidden_dim, tagset_size):\n",
    "        super().__init__()\n",
    "        self.lstm = nn.LSTM(embedding_dim, hidden_dim, batch_first=True, bidirectional=True)\n",
    "        self.fc = nn.Linear(hidden_dim * 2, tagset_size)\n",
    "\n",
    "    def forward(self, x, lengths):\n",
    "        packed = nn.utils.rnn.pack_padded_sequence(x, lengths, batch_first=True, enforce_sorted=False)\n",
    "        lstm_out, _ = self.lstm(packed)\n",
    "        unpacked, _ = nn.utils.rnn.pad_packed_sequence(lstm_out, batch_first=True)\n",
    "        return self.fc(unpacked)"
   ],
   "metadata": {
    "collapsed": false,
    "ExecuteTime": {
     "end_time": "2025-04-07T09:55:14.296413800Z",
     "start_time": "2025-04-07T09:55:14.272841700Z"
    }
   },
   "id": "d297ffb3cb428a15",
   "execution_count": 141
  },
  {
   "cell_type": "code",
   "outputs": [
    {
     "name": "stdout",
     "output_type": "stream",
     "text": [
      "model on cuda\n"
     ]
    }
   ],
   "source": [
    "device = torch.device('cuda' if torch.cuda.is_available() else 'cpu')\n",
    "\n",
    "model = POSTagger(embedding_dim=navec.pq.dim, hidden_dim=128, tagset_size=len(tag2idx)).to(device)\n",
    "\n",
    "criterion = nn.CrossEntropyLoss(ignore_index=-1).to(device)\n",
    "optimizer = optim.Adam(model.parameters(), lr=0.001)\n",
    "\n",
    "print(\"model on\", device)"
   ],
   "metadata": {
    "collapsed": false,
    "ExecuteTime": {
     "end_time": "2025-04-07T09:55:14.931686200Z",
     "start_time": "2025-04-07T09:55:14.916387300Z"
    }
   },
   "id": "7a6d535504e462cf",
   "execution_count": 142
  },
  {
   "cell_type": "code",
   "outputs": [
    {
     "name": "stdout",
     "output_type": "stream",
     "text": [
      "epoch 1,\tloss: 70.7527\n",
      "epoch 2,\tloss: 36.7629\n",
      "epoch 3,\tloss: 23.8556\n",
      "epoch 4,\tloss: 17.9606\n",
      "epoch 5,\tloss: 14.1566\n",
      "epoch 6,\tloss: 11.5412\n",
      "epoch 7,\tloss: 9.8033\n",
      "epoch 8,\tloss: 8.5908\n",
      "epoch 9,\tloss: 7.6888\n",
      "epoch 10,\tloss: 7.0127\n"
     ]
    }
   ],
   "source": [
    "from torch.nn.utils.rnn import pad_sequence\n",
    "\n",
    "total_loss = 0\n",
    "\n",
    "model.train()\n",
    "for epoch in range(num_epochs):\n",
    "    total_loss = 0\n",
    "    \n",
    "    for batch_idx, (batch_x, batch_y, lengths, _) in enumerate(train_loader):\n",
    "        batch_x, batch_y, lengths = batch_x.to(device), batch_y.to(device), lengths\n",
    "\n",
    "        optimizer.zero_grad()\n",
    "        outputs = model(batch_x, lengths)\n",
    "        loss = criterion(outputs.view(-1, outputs.size(-1)), batch_y.view(-1))\n",
    "        loss.backward()\n",
    "        optimizer.step()\n",
    "        total_loss += loss.item()\n",
    "        \n",
    "        if ((batch_idx + 1) % 201) == 0:\n",
    "            print(f'epoch {epoch + 1}, batch {batch_idx}/{len(train_loader)}')\n",
    "        \n",
    "    print(f'epoch {epoch + 1},\\tloss: {total_loss:.4f}')"
   ],
   "metadata": {
    "collapsed": false,
    "ExecuteTime": {
     "end_time": "2025-04-07T10:00:27.445831300Z",
     "start_time": "2025-04-07T09:55:15.302729100Z"
    }
   },
   "id": "ba4715922a912ff4",
   "execution_count": 143
  },
  {
   "cell_type": "code",
   "outputs": [],
   "source": [
    "from helpers import save_model\n",
    "\n",
    "save_model(model, optimizer, num_epochs, total_loss, \"pos_tagger_model3\")"
   ],
   "metadata": {
    "collapsed": false,
    "ExecuteTime": {
     "end_time": "2025-04-07T10:00:31.366552400Z",
     "start_time": "2025-04-07T10:00:31.344942300Z"
    }
   },
   "id": "342dd887ca300579",
   "execution_count": 144
  },
  {
   "cell_type": "code",
   "outputs": [],
   "source": [
    "model.eval()\n",
    "examples = []\n",
    "\n",
    "samples_batches = 1\n",
    "with torch.no_grad():\n",
    "    for k, (batch_x, batch_y, lengths, words_batch) in enumerate(test_loader):\n",
    "        if k >= samples_batches:\n",
    "            break\n",
    "        \n",
    "        batch_x, batch_y = batch_x.to(device), batch_y.to(device)\n",
    "        outputs = model(batch_x, lengths)\n",
    "        predictions = outputs.argmax(-1)\n",
    "\n",
    "        mask = batch_y != -1\n",
    "        for i in range(len(words_batch)):\n",
    "            real_tags = [idx2tag[idx.item()] for idx in batch_y[i] if idx.item() != -1]\n",
    "            pred_tags = [idx2tag[idx.item()] for idx in predictions[i][:len(real_tags)]]\n",
    "            examples.append((words_batch[i], real_tags, pred_tags))"
   ],
   "metadata": {
    "collapsed": false,
    "ExecuteTime": {
     "end_time": "2025-04-07T10:15:14.361606800Z",
     "start_time": "2025-04-07T10:15:08.084771200Z"
    }
   },
   "id": "10efb2a93aa05b40",
   "execution_count": 161
  },
  {
   "cell_type": "code",
   "outputs": [
    {
     "name": "stdout",
     "output_type": "stream",
     "text": [
      "                                      Предложение                                                Фактически                                               Предсказано\n",
      "света сидела рядом , красивая , обворожительная .                   NOUN VERB ADV PUNCT ADJ PUNCT ADJ PUNCT                   NOUN VERB ADV PUNCT ADJ PUNCT ADJ PUNCT\n",
      "         сверкали молнии , то слева , то справа .             VERB NOUN PUNCT CONJ ADV PUNCT CONJ ADV PUNCT             VERB NOUN PUNCT CONJ ADV PUNCT CONJ ADV PUNCT\n",
      "        и никто никогда мне печатно не возражал .                    CONJ PRON ADV PRON ADV PART VERB PUNCT                   CONJ PRON ADV PRON VERB PART VERB PUNCT\n",
      "          я улетел из японии и стал жить дальше .               PRON VERB ADP NOUN CONJ VERB VERB ADV PUNCT               PRON VERB ADP NOUN CONJ VERB VERB ADV PUNCT\n",
      "            \" , \" я на тебе никогда не женюсь \" . PUNCT PUNCT PUNCT PRON ADP PRON ADV PART VERB PUNCT PUNCT PUNCT PUNCT PUNCT PRON ADP PRON ADV PART VERB PUNCT PUNCT\n"
     ]
    }
   ],
   "source": [
    "import pandas as pd\n",
    "\n",
    "df = pd.DataFrame(\n",
    "    [{\n",
    "        'Предложение': ' '.join(words),\n",
    "        'Фактически': ' '.join(real),\n",
    "        'Предсказано': ' '.join(pred)\n",
    "    } for words, real, pred in examples[5:10]]\n",
    ")\n",
    "\n",
    "print(df.to_string(index=False))"
   ],
   "metadata": {
    "collapsed": false,
    "ExecuteTime": {
     "end_time": "2025-04-07T10:15:46.570088300Z",
     "start_time": "2025-04-07T10:15:46.553528600Z"
    }
   },
   "id": "9494c7fbab5ee041",
   "execution_count": 165
  },
  {
   "cell_type": "markdown",
   "source": [
    "## Таким образом, LSTM показала внешне неплохие результаты в частеречной разметке\n",
    "\n",
    "Посчитаем несколько метрик, потому что только accuracy - недостаточно репрезентативно\n",
    "\n",
    "**Accuracy (Точность классификации в целом)**\n",
    "\n",
    "$$\n",
    "Accuracy = \\frac{TP + TN}{TP + TN + FP + FN} = \\frac{\\text{правильных предсказаний}}{\\text{всего тегов}}\n",
    "$$\n",
    "\n",
    "**Accuracy для конкретных тегов**\n",
    "\n",
    "$$\n",
    "Accuracy_i = \\frac{TP_i}{TP_i + FN_i}\n",
    "$$\n",
    "\n",
    "**Precision (Точность для тега)**\n",
    "\n",
    "Из всех предсказаний данного тега — сколько верных\n",
    "\n",
    "$$\n",
    "Precision_i = \\frac{TP_i}{TP_i + FP_i}\n",
    "$$\n",
    "\n",
    "**Recall (Полнота для тега)**\n",
    "\n",
    "Из всех реальных вхождений данного тега — сколько найдено\n",
    "\n",
    "$$\n",
    "Recall_i = \\frac{TP_i}{TP_i + FN_i}\n",
    "$$\n",
    "\n",
    "**F1-score (Гармоническое среднее Precision и Recall)**\n",
    "\n",
    "$$\n",
    "F1_i = 2 \\times \\frac{Precision_i \\times Recall_i}{Precision_i + Recall_i}\n",
    "$$\n",
    "\n",
    "**Sequence Accuracy (Точность по всей последовательности)**\n",
    "\n",
    "$$\n",
    "SeqAccuracy = \\frac{\\text{полностью правильно размеченных предложений}}{\\text{общее число предложений}}\n",
    "$$"
   ],
   "metadata": {
    "collapsed": false
   },
   "id": "75fbca64eee7a704"
  },
  {
   "cell_type": "code",
   "outputs": [],
   "source": [
    "all_preds = []\n",
    "all_true = []\n",
    "\n",
    "model.eval()\n",
    "with torch.no_grad():\n",
    "    for batch_x, batch_y, lengths, _ in test_loader:\n",
    "        batch_x, batch_y = batch_x.to(device), batch_y.to(device)\n",
    "        outputs = model(batch_x, lengths)\n",
    "        preds = outputs.argmax(dim=-1)\n",
    "\n",
    "        mask = batch_y != -1\n",
    "        all_preds.extend(preds[mask].tolist())\n",
    "        all_true.extend(batch_y[mask].tolist())"
   ],
   "metadata": {
    "collapsed": false,
    "ExecuteTime": {
     "end_time": "2025-04-07T10:12:31.773510800Z",
     "start_time": "2025-04-07T10:12:24.797453500Z"
    }
   },
   "id": "e8a2947f1d3ce7aa",
   "execution_count": 157
  },
  {
   "cell_type": "code",
   "outputs": [
    {
     "name": "stdout",
     "output_type": "stream",
     "text": [
      "Accuracy: 0.9513\n"
     ]
    }
   ],
   "source": [
    "import numpy as np\n",
    "# --- Accuracy\n",
    "acc = np.mean(np.array(all_preds) == np.array(all_true))\n",
    "print(f'Accuracy: {acc:.4f}')"
   ],
   "metadata": {
    "collapsed": false,
    "ExecuteTime": {
     "end_time": "2025-04-07T10:13:09.957562300Z",
     "start_time": "2025-04-07T10:13:09.900369700Z"
    }
   },
   "id": "7e6f37babb9d490",
   "execution_count": 158
  },
  {
   "cell_type": "code",
   "outputs": [
    {
     "name": "stdout",
     "output_type": "stream",
     "text": [
      "              precision    recall  f1-score   support\n",
      "\n",
      "         ADP       1.00      0.98      0.99     20049\n",
      "         NUM       0.95      0.84      0.89      2437\n",
      "         ADJ       0.94      0.89      0.91     22367\n",
      "        NOUN       0.95      0.96      0.96     50635\n",
      "        CONJ       0.95      0.92      0.93      9557\n",
      "        PART       0.98      0.95      0.96      5823\n",
      "        LATN       0.93      0.65      0.77       515\n",
      "           X        nan      0.00      0.00       125\n",
      "        VERB       0.97      0.97      0.97     29812\n",
      "        PRON       0.98      0.98      0.98     13976\n",
      "         ADV       0.94      0.85      0.89     12345\n",
      "       PUNCT       0.91      0.99      0.95     41350\n",
      "\n",
      "    accuracy                           0.95    208991\n",
      "   macro avg       0.95      0.83      0.85    208991\n",
      "weighted avg       0.95      0.95      0.95    208991\n"
     ]
    }
   ],
   "source": [
    "from sklearn.metrics import classification_report\n",
    "# --- Precision / Recall / F1 по каждому тегу\n",
    "print(classification_report(all_true, all_preds, target_names=[idx2tag[i] for i in range(len(tag2idx))], zero_division=np.nan))"
   ],
   "metadata": {
    "collapsed": false,
    "ExecuteTime": {
     "end_time": "2025-04-07T10:17:35.040270500Z",
     "start_time": "2025-04-07T10:17:34.924218600Z"
    }
   },
   "id": "d56a77b30a596f8c",
   "execution_count": 168
  },
  {
   "cell_type": "code",
   "outputs": [
    {
     "data": {
      "text/plain": "<Figure size 640x480 with 2 Axes>",
      "image/png": "[encoded data removed]"
     },
     "metadata": {},
     "output_type": "display_data"
    },
    {
     "name": "stdout",
     "output_type": "stream",
     "text": [
      "\n",
      "Accuracy по каждому тегу:\n",
      "X          0.000\n",
      "LATN       0.650\n",
      "NUM        0.841\n",
      "ADV        0.850\n",
      "ADJ        0.890\n",
      "CONJ       0.920\n",
      "PART       0.947\n",
      "NOUN       0.957\n",
      "VERB       0.966\n",
      "PRON       0.980\n",
      "ADP        0.982\n",
      "PUNCT      0.993\n"
     ]
    }
   ],
   "source": [
    "from sklearn.metrics import confusion_matrix, ConfusionMatrixDisplay\n",
    "\n",
    "import matplotlib.pyplot as plt\n",
    "\n",
    "# --- Матрица ошибок\n",
    "cm = confusion_matrix(all_true, all_preds)\n",
    "disp = ConfusionMatrixDisplay(cm, display_labels=[idx2tag[i] for i in range(len(tag2idx))])\n",
    "disp.plot(xticks_rotation='vertical', cmap='Blues')\n",
    "plt.show()\n",
    "\n",
    "# --- Accuracy по каждому тегу отдельно\n",
    "acc_per_class = {}\n",
    "for idx in range(len(tag2idx)):\n",
    "    true_idx = np.array(all_true) == idx\n",
    "    pred_idx = np.array(all_preds) == idx\n",
    "    correct = (true_idx & pred_idx).sum()\n",
    "    total = true_idx.sum()\n",
    "    acc_per_class[idx2tag[idx]] = correct / total if total > 0 else 0.0\n",
    "\n",
    "print('\\nAccuracy по каждому тегу:')\n",
    "for tag, a in sorted(acc_per_class.items(), key=lambda x: x[1]):\n",
    "    print(f'{tag:<10} {a:.3f}')"
   ],
   "metadata": {
    "collapsed": false,
    "ExecuteTime": {
     "end_time": "2025-04-07T10:22:19.011063Z",
     "start_time": "2025-04-07T10:22:18.451356500Z"
    }
   },
   "id": "c3f2b81a02197b56",
   "execution_count": 170
  },
  {
   "cell_type": "code",
   "outputs": [
    {
     "name": "stdout",
     "output_type": "stream",
     "text": [
      "\n",
      "Sequence Accuracy: 0.6426\n"
     ]
    }
   ],
   "source": [
    "# --- Sequence Accuracy (всё предложение правильно)\n",
    "seq_correct = 0\n",
    "seq_total = 0\n",
    "\n",
    "model.eval()\n",
    "with torch.no_grad():\n",
    "    for batch_x, batch_y, lengths, _ in test_loader:\n",
    "        batch_x, batch_y = batch_x.to(device), batch_y.to(device)\n",
    "        outputs = model(batch_x, lengths)\n",
    "        preds = outputs.argmax(dim=-1)\n",
    "\n",
    "        for i, length in enumerate(lengths):\n",
    "            true_seq = batch_y[i, :length].tolist()\n",
    "            pred_seq = preds[i, :length].tolist()\n",
    "            if true_seq == pred_seq:\n",
    "                seq_correct += 1\n",
    "            seq_total += 1\n",
    "\n",
    "print(f'\\nSequence Accuracy: {seq_correct / seq_total:.4f}')"
   ],
   "metadata": {
    "collapsed": false,
    "ExecuteTime": {
     "end_time": "2025-04-07T10:22:31.471712200Z",
     "start_time": "2025-04-07T10:22:21.243848Z"
    }
   },
   "id": "52b8d6085abf56d0",
   "execution_count": 171
  },
  {
   "cell_type": "code",
   "outputs": [],
   "source": [],
   "metadata": {
    "collapsed": false
   },
   "id": "97f796f07e4bfeb1"
  }
 ],
 "metadata": {
  "kernelspec": {
   "display_name": "Python 3",
   "language": "python",
   "name": "python3"
  },
  "language_info": {
   "codemirror_mode": {
    "name": "ipython",
    "version": 2
   },
   "file_extension": ".py",
   "mimetype": "text/x-python",
   "name": "python",
   "nbconvert_exporter": "python",
   "pygments_lexer": "ipython2",
   "version": "2.7.6"
  }
 },
 "nbformat": 4,
 "nbformat_minor": 5
}
