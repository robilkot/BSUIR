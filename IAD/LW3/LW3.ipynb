{
 "cells": [
  {
   "cell_type": "markdown",
   "source": [
    "# Задача 3. Применение рекуррентной нейронной сети для аннотации текста\n",
    "1. Загрузить текстовый корпус, например, набор предложений с метками части речи (POS-tagging).\n",
    "2. Построить и обучить рекуррентную нейронную сеть (RNN или LSTM) для предсказания аннотаций текста.\n",
    "3. Оценить модель на тестовом наборе и сравнить предсказанные метки с реальными.\n",
    "4. Вывести 5 примеров предложений с предсказанными и реальными аннотациями.\n"
   ],
   "metadata": {
    "collapsed": false
   },
   "id": "e319b9e0c014e25b"
  },
  {
   "cell_type": "markdown",
   "source": [
    "## Загрузка корпуса с метками части речи\n",
    "\n",
    "Загрузим корпус в виде итератора пар (слово - часть речи). Игнорируем морфологические признаки из датасета.\n",
    "Параметр $window$ необходим для добавления пустых токенов в конце и начале предложений для дальнейшего расчёта эмбеддингов. "
   ],
   "metadata": {
    "collapsed": false
   },
   "id": "ce34b92931678904"
  },
  {
   "cell_type": "code",
   "outputs": [],
   "source": [
    "import math\n",
    "\n",
    "import numpy as np\n",
    "\n",
    "f = open(\"samples2\", mode=\"r\", encoding=\"utf-8\")\n",
    "\n",
    "FILLER = '\\0'\n",
    "\n",
    "def process_line(line: str) -> list[str]:\n",
    "    tokens = line.split('\\t')\n",
    "    return tokens\n",
    "    \n",
    "def iter_process(it, window):\n",
    "    window_returned = False\n",
    "    \n",
    "    try:\n",
    "        while True:\n",
    "            line = next(it)\n",
    "            tokens = process_line(line)\n",
    "            if len(tokens) < 2:\n",
    "                continue    \n",
    "            elif tokens[1][0] == '<':\n",
    "                if not window_returned:\n",
    "                    window_returned = True\n",
    "                    for w in range(math.floor(window / 2)):\n",
    "                        yield [FILLER, '']\n",
    "                continue\n",
    "            \n",
    "            word_str = tokens[1]\n",
    "            characteristics_str = tokens[2]\n",
    "            \n",
    "            sep_index = characteristics_str.find('|')\n",
    "            pos_str = characteristics_str[:sep_index]\n",
    "            \n",
    "            window_returned = False\n",
    "            yield [word_str, pos_str]\n",
    "    except StopIteration:\n",
    "        return"
   ],
   "metadata": {
    "collapsed": false,
    "ExecuteTime": {
     "end_time": "2025-03-21T16:26:55.416367500Z",
     "start_time": "2025-03-21T16:26:55.378681600Z"
    }
   },
   "id": "a93b1389e415c733",
   "execution_count": 207
  },
  {
   "cell_type": "markdown",
   "source": [
    "## Предобработка\n",
    "\n",
    "### Расчёт эмбеддингов слов. \n",
    "Рассчитываем эмбеддинг на основе двух параметров: $r$, $n$.\n",
    "$r$ - количество токенов в контексте.\n",
    "$n$ - количество символов с конца слова (предполагаем, что последние символы - изменяемые части слова, поэтому могут определять часть речи) для расчёта.  Аналогичным образом применяется $n$ символов $r / 2 - 1$ слов в обе стороны предложения от изучаемого слова (контекст).\n",
    "\n",
    "### Предобработка результирующего столбца (часть речи)\n",
    "Категориальный признак преобразуем в числовое значение в диапазоне $[1, n]$, где $n$ - количество классов (частей речи) в датасете."
   ],
   "metadata": {
    "collapsed": false
   },
   "id": "8f79bb671c568ba8"
  },
  {
   "cell_type": "code",
   "outputs": [],
   "source": [
    "r = 5\n",
    "n = 5\n",
    "embedding_dim = n * r\n",
    "\n",
    "assert r % 2 == 1\n",
    "\n",
    "corpus_it = iter_process(f, r)\n",
    "corpus = list(corpus_it)"
   ],
   "metadata": {
    "collapsed": false,
    "ExecuteTime": {
     "end_time": "2025-03-21T16:26:55.436163Z",
     "start_time": "2025-03-21T16:26:55.422276900Z"
    }
   },
   "id": "9fd9da645fb8c326",
   "execution_count": 208
  },
  {
   "cell_type": "code",
   "outputs": [],
   "source": [
    "POS_MAPPING = {\n",
    "    'NOUN': 0,\n",
    "    'VERB': 1,\n",
    "    'PRON': 2,\n",
    "    'NUM': 3,\n",
    "    'ADP': 4,\n",
    "    'PUNCT': 5,\n",
    "    'ADV': 6,\n",
    "    'ADJ': 7,\n",
    "    'CONJ': 8,\n",
    "    'PART': 9,\n",
    "    'LATN': 10,\n",
    "    'X': 11,\n",
    "}\n",
    "\n",
    "INVERSE_POS_MAPPING = {v: k for k, v in POS_MAPPING.items()}\n",
    "\n",
    "def make_embeddings_and_outputs(corpus, symbols_count, window) -> (np.ndarray, np.ndarray):\n",
    "    embeddings = []\n",
    "    outputs = []\n",
    "    indexes_in_corpus = []\n",
    "    \n",
    "    for index, pair in enumerate(corpus):\n",
    "        half_window = math.floor(window / 2)\n",
    "        min = index - half_window\n",
    "        max = index + half_window + 1\n",
    "        \n",
    "        if min < 0 or max > len(corpus) or corpus[index][0] == FILLER:\n",
    "            continue\n",
    "        \n",
    "        assert max - min == window\n",
    "    \n",
    "        embedding = np.ndarray(dtype='uint8', shape=(window, symbols_count))    \n",
    "        for embedding_index, i in enumerate(range(min, max)):\n",
    "            word = corpus[i][0]\n",
    "            embedding[embedding_index] = embed_word(word, symbols_count)\n",
    "            \n",
    "        embedding = embedding.flatten()\n",
    "        \n",
    "        indexes_in_corpus.append(index)\n",
    "        embeddings.append(embedding)\n",
    "        outputs.append(POS_MAPPING[corpus[index][1]])\n",
    "        \n",
    "    indexes_in_corpus = np.array(indexes_in_corpus, dtype='uint32')\n",
    "    embeddings = np.array(embeddings, dtype='uint8')\n",
    "    outputs = np.array(outputs, dtype='uint8')\n",
    "    \n",
    "    return indexes_in_corpus, embeddings, outputs\n",
    "\n",
    "def embed_word(word, n_symbols) -> np.ndarray:\n",
    "    padded = word.rjust(n_symbols, '\\0')\n",
    "    embedding = np.frombuffer(padded[-n_symbols:].encode('iso-8859-5'), dtype=np.uint8)\n",
    "    return embedding"
   ],
   "metadata": {
    "collapsed": false,
    "ExecuteTime": {
     "end_time": "2025-03-21T16:38:11.951170100Z",
     "start_time": "2025-03-21T16:38:11.935806800Z"
    }
   },
   "id": "698cdcba2e22113b",
   "execution_count": 226
  },
  {
   "cell_type": "code",
   "outputs": [
    {
     "name": "stdout",
     "output_type": "stream",
     "text": [
      "2 [  0   0   0   0   0   0   0   0   0   0   0   0   0   0 239   0   0 220\n",
      " 222 238   0 222 218 221 222] 2\n",
      "3 [  0   0   0   0   0   0   0   0   0 239   0   0 220 222 238   0 222 218\n",
      " 221 222   0   0   0   0   0] 1\n",
      "4 [  0   0   0   0 239   0   0 220 222 238   0 222 218 221 222   0   0   0\n",
      "   0   0   0   0   0   0   0] 0\n",
      "7 [  0   0   0   0   0   0   0   0   0   0 212 221 216 218 216 219 216 230\n",
      " 216 216 231 213 224 222 220] 0\n",
      "8 [  0   0   0   0   0 212 221 216 218 216 219 216 230 216 216 231 213 224\n",
      " 222 220   0   0   0  51  49] 0\n",
      "9 [212 221 216 218 216 219 216 230 216 216 231 213 224 222 220   0   0   0\n",
      "  51  49 218 208 209 224 239] 0\n",
      "10 [219 216 230 216 216 231 213 224 222 220   0   0   0  51  49 218 208 209\n",
      " 224 239 222 214 216 219 216] 3\n",
      "11 [231 213 224 222 220   0   0   0  51  49 218 208 209 224 239 222 214 216\n",
      " 219 216   0   0   0   0 210] 0\n",
      "12 [  0   0   0  51  49 218 208 209 224 239 222 214 216 219 216   0   0   0\n",
      "   0 210 210 238 224 226 213] 1\n",
      "13 [218 208 209 224 239 222 214 216 219 216   0   0   0   0 210 210 238 224\n",
      " 226 213 210 213 224 235 229] 4\n"
     ]
    }
   ],
   "source": [
    "indexes_in_corpus, embeddings, outputs = make_embeddings_and_outputs(corpus, n, r)\n",
    "\n",
    "for i in range(10):\n",
    "    print(indexes_in_corpus[i], embeddings[i], outputs[i])"
   ],
   "metadata": {
    "collapsed": false,
    "ExecuteTime": {
     "end_time": "2025-03-21T16:38:12.912378800Z",
     "start_time": "2025-03-21T16:38:12.901420400Z"
    }
   },
   "id": "95fb5b457a5eb154",
   "execution_count": 227
  },
  {
   "cell_type": "markdown",
   "source": [
    "## Построение и обучение нейросети"
   ],
   "metadata": {
    "collapsed": false
   },
   "id": "774e875b2f1dc25f"
  },
  {
   "cell_type": "code",
   "outputs": [],
   "source": [
    "from torch.utils.data import TensorDataset, DataLoader\n",
    "import torch\n",
    "from torch import nn\n",
    "import torch.nn.functional as F\n",
    "\n",
    "tensor_embeddings = torch.Tensor(embeddings)\n",
    "tensor_outputs = torch.Tensor(outputs)\n",
    "\n",
    "pos_dataset = TensorDataset(tensor_embeddings, tensor_outputs)\n",
    "batch_size = 32\n",
    "pos_dataloader = DataLoader(pos_dataset, batch_size=batch_size)"
   ],
   "metadata": {
    "collapsed": false,
    "ExecuteTime": {
     "end_time": "2025-03-21T16:26:55.466244100Z",
     "start_time": "2025-03-21T16:26:55.438407500Z"
    }
   },
   "id": "a501f6d669882054",
   "execution_count": 210
  },
  {
   "cell_type": "code",
   "outputs": [],
   "source": [
    "MODEL_PATH = \"pos_tagger_model.pth\"\n",
    "\n",
    "def save_model(model, optimizer, epoch, loss, path):\n",
    "    torch.save({\n",
    "        'model_state_dict': model.state_dict(),\n",
    "        'optimizer_state_dict': optimizer.state_dict(),\n",
    "        'epoch': epoch,\n",
    "        'loss': loss,\n",
    "    }, path)\n",
    "\n",
    "def load_model(model, optimizer, path):\n",
    "    checkpoint = torch.load(path)\n",
    "    model.load_state_dict(checkpoint['model_state_dict'])\n",
    "    optimizer.load_state_dict(checkpoint['optimizer_state_dict'])\n",
    "    epoch = checkpoint['epoch']\n",
    "    loss = checkpoint['loss']\n",
    "    return model, optimizer, epoch, loss"
   ],
   "metadata": {
    "collapsed": false,
    "ExecuteTime": {
     "end_time": "2025-03-21T16:26:55.498075Z",
     "start_time": "2025-03-21T16:26:55.447276400Z"
    }
   },
   "id": "cb335b8951f09f43",
   "execution_count": 211
  },
  {
   "cell_type": "code",
   "outputs": [],
   "source": [
    "class SimplePOSTagger(nn.Module):\n",
    "    def __init__(self, embedding_dim, hidden_dim, num_tags):\n",
    "        super(SimplePOSTagger, self).__init__()\n",
    "        \n",
    "        self.fc1 = nn.Linear(embedding_dim, hidden_dim)\n",
    "        # self.dropout = nn.Dropout(0.1)\n",
    "        self.fc2 = nn.Linear(hidden_dim, num_tags)\n",
    "        \n",
    "    def forward(self, x):\n",
    "        x = F.relu(self.fc1(x))\n",
    "        # x = self.dropout(x)\n",
    "        x = self.fc2(x)\n",
    "        return x\n",
    "\n",
    "hidden_dim = 128\n",
    "num_tags = len(POS_MAPPING)\n",
    "model = SimplePOSTagger(embedding_dim=embedding_dim, hidden_dim=hidden_dim, num_tags=num_tags)\n",
    "\n",
    "loss = nn.CrossEntropyLoss()\n",
    "optimizer = torch.optim.Adam(model.parameters(), lr=0.001)"
   ],
   "metadata": {
    "collapsed": false
   },
   "id": "463e95ec55429b57",
   "execution_count": null
  },
  {
   "cell_type": "code",
   "outputs": [],
   "source": [
    "num_epochs = 50\n",
    "model.train()\n",
    "\n",
    "for epoch in range(num_epochs):\n",
    "    running_loss = 0.0\n",
    "    correct = 0\n",
    "    total = 0\n",
    "    \n",
    "    for batch_idx, (inputs, labels) in enumerate(pos_dataloader):\n",
    "        # Обнуляем градиенты\n",
    "        optimizer.zero_grad()\n",
    "        \n",
    "        # Forward pass\n",
    "        outputs = model(inputs.float())\n",
    "        loss_value = loss(outputs, labels.long())\n",
    "        \n",
    "        # Backward pass и оптимизация\n",
    "        loss_value.backward()\n",
    "        optimizer.step()\n",
    "        \n",
    "        running_loss += loss_value.item()\n",
    "        _, predicted = torch.max(outputs.data, 1)\n",
    "        correct += (predicted == labels).sum().item()\n",
    "        total += labels.size(0)\n",
    "    \n",
    "    epoch_loss = running_loss / len(pos_dataloader)\n",
    "    accuracy = correct / total\n",
    "    \n",
    "    print(f'Эпоха {epoch + 1}/{num_epochs}, Потери: {epoch_loss:.4f}, Точность: {accuracy:.4f}')"
   ],
   "metadata": {
    "collapsed": false
   },
   "id": "99178acbc8eacf7"
  },
  {
   "cell_type": "code",
   "outputs": [],
   "source": [
    "save_model(model, optimizer, num_epochs, epoch_loss, MODEL_PATH)"
   ],
   "metadata": {
    "collapsed": false,
    "ExecuteTime": {
     "end_time": "2025-03-21T16:26:55.553966700Z",
     "start_time": "2025-03-21T16:26:55.542082700Z"
    }
   },
   "id": "dff62bfa3af79233",
   "execution_count": 213
  },
  {
   "cell_type": "code",
   "outputs": [],
   "source": [
    "def evaluate_model(model, dataloader):\n",
    "    model.eval()\n",
    "    predictions = []\n",
    "    labels = []\n",
    "    \n",
    "    with torch.no_grad():\n",
    "        for inputs, targets in dataloader:\n",
    "            outputs = model(inputs.float())\n",
    "            _, predicted = torch.max(outputs.data, 1)\n",
    "            \n",
    "            predictions.extend(predicted.cpu().numpy())\n",
    "            labels.extend(targets.cpu().numpy())\n",
    "            \n",
    "    return predictions, labels"
   ],
   "metadata": {
    "collapsed": false,
    "ExecuteTime": {
     "end_time": "2025-03-21T16:26:55.555012100Z",
     "start_time": "2025-03-21T16:26:55.550167600Z"
    }
   },
   "id": "ebcdc131ec0aec07",
   "execution_count": 214
  },
  {
   "cell_type": "code",
   "outputs": [
    {
     "name": "stdout",
     "output_type": "stream",
     "text": [
      "       Слово         |     Прогноз     |    Фактически  \n",
      "--------------------------------------------------------\n",
      "сотрудники           |      NOUN       |      NOUN      \n",
      "милиции              |      NOUN       |      NOUN      \n",
      "вечером              |      NOUN       |      NOUN      \n",
      "31                   |       NUM       |       NUM      \n",
      "декабря              |      NOUN       |      NOUN      \n",
      "уничтожили           |      VERB       |      VERB      \n",
      "в                    |       ADP       |       ADP      \n",
      "хасавюрте            |      NOUN       |      NOUN      \n",
      "четверых             |       NUM       |       NUM      \n",
      "боевиков             |      NOUN       |      NOUN      \n",
      ".                    |      PUNCT      |      PUNCT     \n"
     ]
    }
   ],
   "source": [
    "test_f = open(\"test_samples\", mode=\"r\", encoding=\"utf-8\")\n",
    "test_corpus_it = iter_process(test_f, r)\n",
    "test_corpus = list(test_corpus_it)\n",
    "\n",
    "test_f.close()\n",
    "\n",
    "test_idx_in_corpus, test_embeddings, test_outputs = make_embeddings_and_outputs(test_corpus, n, r)\n",
    "\n",
    "test_embeddings = torch.Tensor(test_embeddings)\n",
    "test_outputs = torch.Tensor(test_outputs)\n",
    "\n",
    "test_dataset = TensorDataset(\n",
    "    test_embeddings,\n",
    "    test_outputs\n",
    ")\n",
    "test_dataloader = DataLoader(test_dataset, batch_size=batch_size)\n",
    "\n",
    "predictions, labels = evaluate_model(model, test_dataloader)\n",
    "\n",
    "heads = ['Слово', 'Прогноз', 'Фактически']\n",
    "print(*[f\"{heads[0]:^20} | \", f\"{heads[1]:^14} | \", f\"{heads[2]:^14}\"])\n",
    "print(\"-\" * (22 + 17 + 17))\n",
    "\n",
    "for i, index_in_corpus in enumerate(test_idx_in_corpus):\n",
    "    word = test_corpus[index_in_corpus][0]\n",
    "    pred_tag = INVERSE_POS_MAPPING[predictions[i]]\n",
    "    actual_tag = test_corpus[index_in_corpus][1]\n",
    "\n",
    "    print(f\"{word:20} | {pred_tag:^15} | {actual_tag:^15}\")"
   ],
   "metadata": {
    "collapsed": false,
    "ExecuteTime": {
     "end_time": "2025-03-21T17:02:17.316510700Z",
     "start_time": "2025-03-21T17:02:17.306624400Z"
    }
   },
   "id": "399adcbf0ff5f562",
   "execution_count": 296
  },
  {
   "cell_type": "code",
   "outputs": [],
   "source": [
    "loaded_model, loaded_optimizer, loaded_epoch, loaded_loss = load_model(model, optimizer, MODEL_PATH)\n"
   ],
   "metadata": {
    "collapsed": false,
    "ExecuteTime": {
     "end_time": "2025-03-21T16:54:00.270552800Z",
     "start_time": "2025-03-21T16:54:00.267392Z"
    }
   },
   "id": "71c7e1e85fd2cbb1",
   "execution_count": 250
  },
  {
   "cell_type": "markdown",
   "source": [
    "## Оценка модели"
   ],
   "metadata": {
    "collapsed": false
   },
   "id": "8b9d482353eae8ea"
  },
  {
   "cell_type": "code",
   "outputs": [],
   "source": [],
   "metadata": {
    "collapsed": false,
    "ExecuteTime": {
     "end_time": "2025-03-21T16:26:55.612197900Z",
     "start_time": "2025-03-21T16:26:55.578103600Z"
    }
   },
   "id": "bd726a8110befcf9",
   "execution_count": 216
  },
  {
   "cell_type": "markdown",
   "source": [
    "## Примеры предсказаний"
   ],
   "metadata": {
    "collapsed": false
   },
   "id": "dbb8fefd052ebfd3"
  },
  {
   "cell_type": "code",
   "outputs": [],
   "source": [],
   "metadata": {
    "collapsed": false,
    "ExecuteTime": {
     "end_time": "2025-03-21T16:26:55.635537400Z",
     "start_time": "2025-03-21T16:26:55.614354800Z"
    }
   },
   "id": "27002928c2f4ae28",
   "execution_count": 216
  }
 ],
 "metadata": {
  "kernelspec": {
   "display_name": "Python 3",
   "language": "python",
   "name": "python3"
  },
  "language_info": {
   "codemirror_mode": {
    "name": "ipython",
    "version": 2
   },
   "file_extension": ".py",
   "mimetype": "text/x-python",
   "name": "python",
   "nbconvert_exporter": "python",
   "pygments_lexer": "ipython2",
   "version": "2.7.6"
  }
 },
 "nbformat": 4,
 "nbformat_minor": 5
}
